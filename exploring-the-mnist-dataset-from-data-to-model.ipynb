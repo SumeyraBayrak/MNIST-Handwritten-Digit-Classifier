{
 "cells": [
  {
   "cell_type": "code",
   "execution_count": 1,
   "id": "b6be1a45",
   "metadata": {
    "_cell_guid": "b1076dfc-b9ad-4769-8c92-a6c4dae69d19",
    "_uuid": "8f2839f25d086af736a60e9eeb907d3b93b6e0e5",
    "execution": {
     "iopub.execute_input": "2024-10-19T17:01:58.527357Z",
     "iopub.status.busy": "2024-10-19T17:01:58.526762Z",
     "iopub.status.idle": "2024-10-19T17:01:59.311025Z",
     "shell.execute_reply": "2024-10-19T17:01:59.309819Z"
    },
    "papermill": {
     "duration": 0.796071,
     "end_time": "2024-10-19T17:01:59.313226",
     "exception": false,
     "start_time": "2024-10-19T17:01:58.517155",
     "status": "completed"
    },
    "tags": []
   },
   "outputs": [
    {
     "name": "stdout",
     "output_type": "stream",
     "text": [
      "/kaggle/input/mnist-dataset/train-images.idx3-ubyte\n",
      "/kaggle/input/mnist-dataset/t10k-labels.idx1-ubyte\n",
      "/kaggle/input/mnist-dataset/t10k-images.idx3-ubyte\n",
      "/kaggle/input/mnist-dataset/train-labels.idx1-ubyte\n",
      "/kaggle/input/mnist-dataset/t10k-labels-idx1-ubyte/t10k-labels-idx1-ubyte\n",
      "/kaggle/input/mnist-dataset/t10k-images-idx3-ubyte/t10k-images-idx3-ubyte\n",
      "/kaggle/input/mnist-dataset/train-labels-idx1-ubyte/train-labels-idx1-ubyte\n",
      "/kaggle/input/mnist-dataset/train-images-idx3-ubyte/train-images-idx3-ubyte\n"
     ]
    }
   ],
   "source": [
    "# This Python 3 environment comes with many helpful analytics libraries installed\n",
    "# It is defined by the kaggle/python Docker image: https://github.com/kaggle/docker-python\n",
    "# For example, here's several helpful packages to load\n",
    "\n",
    "import numpy as np # linear algebra\n",
    "import pandas as pd # data processing, CSV file I/O (e.g. pd.read_csv)\n",
    "\n",
    "# Input data files are available in the read-only \"../input/\" directory\n",
    "# For example, running this (by clicking run or pressing Shift+Enter) will list all files under the input directory\n",
    "\n",
    "import os\n",
    "for dirname, _, filenames in os.walk('/kaggle/input'):\n",
    "    for filename in filenames:\n",
    "        print(os.path.join(dirname, filename))\n",
    "# You can write up to 20GB to the current directory (/kaggle/working/) that gets preserved as output when you create a version using \"Save & Run All\" \n",
    "# You can also write temporary files to /kaggle/temp/, but they won't be saved outside of the current session"
   ]
  },
  {
   "cell_type": "markdown",
   "id": "55c57794",
   "metadata": {
    "papermill": {
     "duration": 0.007635,
     "end_time": "2024-10-19T17:01:59.328944",
     "exception": false,
     "start_time": "2024-10-19T17:01:59.321309",
     "status": "completed"
    },
    "tags": []
   },
   "source": [
    "# MNIST El Yazısı Rakam Veritabanı\n",
    "\n",
    "**MNIST El Yazısı Rakam Veritabanı**, makine öğrenmesi ve derin öğrenme projeleri için yaygın olarak kullanılan bir veri kümesidir. Aşağıda projeyi özetleyen temel bilgileri bulabilirsiniz:\n",
    "\n",
    "- **İçerik:** 0'dan 9'a kadar el yazısı ile yazılmış rakamlar.\n",
    "- **Görüntü Boyutu:** Her rakam, 28x28 piksel boyutundadır.\n",
    "- **Veri Miktarı:** Toplamda 70.000 örnek (60.000 eğitim, 10.000 test).\n",
    "- **Kullanım Amacı:** Algoritmaların test edilmesi ve geliştirilmesi.\n",
    "- **Uygulamalar:** Yapay sinir ağları, K-Nearest Neighbors (KNN), Support Vector Machines (SVM) gibi yöntemlerle sınıflandırma yapılabilir.\n"
   ]
  },
  {
   "cell_type": "code",
   "execution_count": 2,
   "id": "81785c6e",
   "metadata": {
    "execution": {
     "iopub.execute_input": "2024-10-19T17:01:59.346834Z",
     "iopub.status.busy": "2024-10-19T17:01:59.346429Z",
     "iopub.status.idle": "2024-10-19T17:02:13.179439Z",
     "shell.execute_reply": "2024-10-19T17:02:13.178629Z"
    },
    "papermill": {
     "duration": 13.84413,
     "end_time": "2024-10-19T17:02:13.181831",
     "exception": false,
     "start_time": "2024-10-19T17:01:59.337701",
     "status": "completed"
    },
    "tags": []
   },
   "outputs": [],
   "source": [
    "import pandas as pd\n",
    "import numpy as np\n",
    "import matplotlib.pyplot as plt\n",
    "from sklearn.model_selection import train_test_split\n",
    "\n",
    "import struct\n",
    "import warnings\n",
    "warnings.filterwarnings('ignore')\n",
    "import tensorflow as tf"
   ]
  },
  {
   "cell_type": "code",
   "execution_count": 3,
   "id": "dfdc9734",
   "metadata": {
    "execution": {
     "iopub.execute_input": "2024-10-19T17:02:13.199416Z",
     "iopub.status.busy": "2024-10-19T17:02:13.198863Z",
     "iopub.status.idle": "2024-10-19T17:02:13.448269Z",
     "shell.execute_reply": "2024-10-19T17:02:13.447329Z"
    },
    "papermill": {
     "duration": 0.260134,
     "end_time": "2024-10-19T17:02:13.450192",
     "exception": false,
     "start_time": "2024-10-19T17:02:13.190058",
     "status": "completed"
    },
    "tags": []
   },
   "outputs": [
    {
     "data": {
      "text/plain": [
       "[PhysicalDevice(name='/physical_device:GPU:0', device_type='GPU')]"
      ]
     },
     "execution_count": 3,
     "metadata": {},
     "output_type": "execute_result"
    }
   ],
   "source": [
    "tf.config.list_physical_devices('GPU')"
   ]
  },
  {
   "cell_type": "code",
   "execution_count": 4,
   "id": "347bedbf",
   "metadata": {
    "execution": {
     "iopub.execute_input": "2024-10-19T17:02:13.467619Z",
     "iopub.status.busy": "2024-10-19T17:02:13.467277Z",
     "iopub.status.idle": "2024-10-19T17:02:13.473531Z",
     "shell.execute_reply": "2024-10-19T17:02:13.472761Z"
    },
    "papermill": {
     "duration": 0.016705,
     "end_time": "2024-10-19T17:02:13.475299",
     "exception": false,
     "start_time": "2024-10-19T17:02:13.458594",
     "status": "completed"
    },
    "tags": []
   },
   "outputs": [],
   "source": [
    "train_images_path = \"/kaggle/input/mnist-dataset/train-images.idx3-ubyte\"\n",
    "train_labels_path = \"/kaggle/input/mnist-dataset/train-labels.idx1-ubyte\"\n",
    "test_images_path = \"/kaggle/input/mnist-dataset/t10k-images-idx3-ubyte/t10k-images-idx3-ubyte\"\n",
    "test_labels_path = \"/kaggle/input/mnist-dataset/t10k-labels.idx1-ubyte\"\n",
    "\n",
    "def load_idx(filename):\n",
    "    with open(filename, 'rb') as f:\n",
    "        zero, data_type, dims = struct.unpack('>HBB', f.read(4))\n",
    "        shape = tuple(struct.unpack('>I', f.read(4))[0] for d in range(dims))\n",
    "        return np.frombuffer(f.read(), dtype=np.uint8).reshape(shape)"
   ]
  },
  {
   "cell_type": "code",
   "execution_count": 5,
   "id": "cafce020",
   "metadata": {
    "execution": {
     "iopub.execute_input": "2024-10-19T17:02:13.491995Z",
     "iopub.status.busy": "2024-10-19T17:02:13.491712Z",
     "iopub.status.idle": "2024-10-19T17:02:13.993896Z",
     "shell.execute_reply": "2024-10-19T17:02:13.992788Z"
    },
    "papermill": {
     "duration": 0.513318,
     "end_time": "2024-10-19T17:02:13.996499",
     "exception": false,
     "start_time": "2024-10-19T17:02:13.483181",
     "status": "completed"
    },
    "tags": []
   },
   "outputs": [],
   "source": [
    "# Verileri yüklüyoruz\n",
    "X_train = load_idx(train_images_path)\n",
    "y_train = load_idx(train_labels_path)\n",
    "X_test = load_idx(test_images_path)\n",
    "y_test = load_idx(test_labels_path)"
   ]
  },
  {
   "cell_type": "code",
   "execution_count": 6,
   "id": "03d148fa",
   "metadata": {
    "execution": {
     "iopub.execute_input": "2024-10-19T17:02:14.027878Z",
     "iopub.status.busy": "2024-10-19T17:02:14.027466Z",
     "iopub.status.idle": "2024-10-19T17:02:14.034269Z",
     "shell.execute_reply": "2024-10-19T17:02:14.033094Z"
    },
    "papermill": {
     "duration": 0.025783,
     "end_time": "2024-10-19T17:02:14.040142",
     "exception": false,
     "start_time": "2024-10-19T17:02:14.014359",
     "status": "completed"
    },
    "tags": []
   },
   "outputs": [
    {
     "name": "stdout",
     "output_type": "stream",
     "text": [
      "X_train shape: (60000, 28, 28)\n",
      "X_test shape: (10000, 28, 28)\n",
      "y_train shape: (60000,)\n",
      "y_test shape: (10000,)\n"
     ]
    }
   ],
   "source": [
    "# verilerin boyutlarını kontrol edelim\n",
    "print('X_train shape:', X_train.shape)\n",
    "print('X_test shape:', X_test.shape)\n",
    "print('y_train shape:', y_train.shape)\n",
    "print('y_test shape:', y_test.shape)"
   ]
  },
  {
   "cell_type": "markdown",
   "id": "75ffcf75",
   "metadata": {
    "papermill": {
     "duration": 0.010188,
     "end_time": "2024-10-19T17:02:14.062599",
     "exception": false,
     "start_time": "2024-10-19T17:02:14.052411",
     "status": "completed"
    },
    "tags": []
   },
   "source": [
    "#### **Veri Seti Bilgi**  \n",
    "| **Veri Türü**        | **Şekil**        | **Açıklama**                           |\n",
    "|----------------------|------------------|----------------------------------------|\n",
    "| `X_train`            | (60000, 28, 28)  | 60.000 adet eğitim görüntüsü (28x28 piksel) |\n",
    "| `X_test`             | (10000, 28, 28)  | 10.000 adet test görüntüsü (28x28 piksel) |\n",
    "| `y_train`            | (60000,)         | Eğitim verisine ait etiketler (0-9 arası) |\n",
    "| `y_test`             | (10000,)         | Test verisine ait etiketler (0-9 arası) |"
   ]
  },
  {
   "cell_type": "code",
   "execution_count": 7,
   "id": "39d3de8e",
   "metadata": {
    "execution": {
     "iopub.execute_input": "2024-10-19T17:02:14.086973Z",
     "iopub.status.busy": "2024-10-19T17:02:14.086659Z",
     "iopub.status.idle": "2024-10-19T17:02:14.478765Z",
     "shell.execute_reply": "2024-10-19T17:02:14.477828Z"
    },
    "papermill": {
     "duration": 0.406456,
     "end_time": "2024-10-19T17:02:14.480777",
     "exception": false,
     "start_time": "2024-10-19T17:02:14.074321",
     "status": "completed"
    },
    "tags": []
   },
   "outputs": [
    {
     "data": {
      "image/png": "[encoded data removed]",
      "text/plain": [
       "<Figure size 1000x400 with 5 Axes>"
      ]
     },
     "metadata": {},
     "output_type": "display_data"
    }
   ],
   "source": [
    "def plot_images(images, labels, num_images=5):\n",
    "    plt.figure(figsize=(10, 4))\n",
    "    for i in range(num_images):\n",
    "        plt.subplot(1, num_images, i + 1)\n",
    "        plt.imshow(images[i], cmap='gray')\n",
    "        plt.title(f'Label: {labels[i]}')\n",
    "        plt.axis('off')\n",
    "    plt.show()\n",
    "\n",
    "# Örnek 5 görüntü ve etiket\n",
    "plot_images(X_train, y_train, num_images=5)"
   ]
  },
  {
   "cell_type": "code",
   "execution_count": 8,
   "id": "ba607d1d",
   "metadata": {
    "execution": {
     "iopub.execute_input": "2024-10-19T17:02:14.498479Z",
     "iopub.status.busy": "2024-10-19T17:02:14.498135Z",
     "iopub.status.idle": "2024-10-19T17:02:14.578878Z",
     "shell.execute_reply": "2024-10-19T17:02:14.577839Z"
    },
    "papermill": {
     "duration": 0.092384,
     "end_time": "2024-10-19T17:02:14.581401",
     "exception": false,
     "start_time": "2024-10-19T17:02:14.489017",
     "status": "completed"
    },
    "tags": []
   },
   "outputs": [],
   "source": [
    "# Görselleri 28x28 boyutlarından flatten işlemi yapıyoruz ve normalize edelim\n",
    "X_train = X_train.reshape((X_train.shape[0], 28 * 28)).astype('float32') / 255\n",
    "X_test = X_test.reshape((X_test.shape[0], 28 * 28)).astype('float32') / 255"
   ]
  },
  {
   "cell_type": "code",
   "execution_count": 9,
   "id": "b4c96cfe",
   "metadata": {
    "execution": {
     "iopub.execute_input": "2024-10-19T17:02:14.599670Z",
     "iopub.status.busy": "2024-10-19T17:02:14.599281Z",
     "iopub.status.idle": "2024-10-19T17:02:14.604245Z",
     "shell.execute_reply": "2024-10-19T17:02:14.603391Z"
    },
    "papermill": {
     "duration": 0.016481,
     "end_time": "2024-10-19T17:02:14.606473",
     "exception": false,
     "start_time": "2024-10-19T17:02:14.589992",
     "status": "completed"
    },
    "tags": []
   },
   "outputs": [
    {
     "name": "stdout",
     "output_type": "stream",
     "text": [
      "X_train shape: (60000, 784)\n",
      "X_test shape: (10000, 784)\n"
     ]
    }
   ],
   "source": [
    "# Flatten edilmiş boyutlarına tekrar bakalım.\n",
    "print('X_train shape:', X_train.shape)\n",
    "print('X_test shape:', X_test.shape)"
   ]
  },
  {
   "cell_type": "markdown",
   "id": "b2902a57",
   "metadata": {
    "papermill": {
     "duration": 0.007966,
     "end_time": "2024-10-19T17:02:14.622720",
     "exception": false,
     "start_time": "2024-10-19T17:02:14.614754",
     "status": "completed"
    },
    "tags": []
   },
   "source": [
    "#### **1. Flatten (Düzleştirme)**  \n",
    "- **Tanım:**  \n",
    "  - Çok boyutlu bir diziyi (örneğin 28x28 piksel boyutunda) **tek boyutlu** bir diziye dönüştürme işlemidir.  \n",
    "- **Amaç:**  \n",
    "  - Yapay sinir ağları gibi modellerde, her görüntüyü **784** elemanlı (28 × 28 = 784) **tek boyutlu** bir diziye dönüştürerek işlemeyi kolaylaştırmak."
   ]
  },
  {
   "cell_type": "code",
   "execution_count": 10,
   "id": "f605d2e8",
   "metadata": {
    "execution": {
     "iopub.execute_input": "2024-10-19T17:02:14.640655Z",
     "iopub.status.busy": "2024-10-19T17:02:14.640316Z",
     "iopub.status.idle": "2024-10-19T17:02:14.712495Z",
     "shell.execute_reply": "2024-10-19T17:02:14.711681Z"
    },
    "papermill": {
     "duration": 0.083945,
     "end_time": "2024-10-19T17:02:14.714865",
     "exception": false,
     "start_time": "2024-10-19T17:02:14.630920",
     "status": "completed"
    },
    "tags": []
   },
   "outputs": [],
   "source": [
    "# Train ve validation olarak ayıralım.\n",
    "X_train, X_val, y_train, y_val = train_test_split(X_train, y_train, test_size=0.2, random_state=42)"
   ]
  },
  {
   "cell_type": "markdown",
   "id": "f26718d3",
   "metadata": {
    "papermill": {
     "duration": 0.008052,
     "end_time": "2024-10-19T17:02:14.731438",
     "exception": false,
     "start_time": "2024-10-19T17:02:14.723386",
     "status": "completed"
    },
    "tags": []
   },
   "source": [
    "### **1. One-Hot Encoding Nedir?**  \n",
    "- **Tanım:**  \n",
    "  One-hot encoding, her sınıfın bağımsız olarak temsil edilmesini sağlayan bir **dönüşüm tekniğidir**.  \n",
    "  - **Amaç:**  \n",
    "    - Etiketleri, **vektör formunda** ifade ederek, her sınıfa yalnızca bir pozisyonda `1` değeri atanmasını sağlar.  \n",
    "    - Geri kalan tüm pozisyonlara `0` atanır.  \n",
    "\n",
    "#### **Nasıl Çalışır?**  \n",
    "- Her sınıf, yalnızca **tek bir pozisyondaki 1** değeri ile tanımlanır.  \n",
    "- **Örnek:** MNIST veri setindeki sınıf etiketlerinin one-hot encoding dönüşümü:  \n",
    "  - **Etiket 0:** `[1, 0, 0, 0, 0, 0, 0, 0, 0, 0]`  \n",
    "  - **Etiket 1:** `[0, 1, 0, 0, 0, 0, 0, 0, 0, 0]`  \n",
    "  - **Etiket 3:** `[0, 0, 0, 1, 0, 0, 0, 0, 0, 0]`  "
   ]
  },
  {
   "cell_type": "code",
   "execution_count": 11,
   "id": "f4f45919",
   "metadata": {
    "execution": {
     "iopub.execute_input": "2024-10-19T17:02:14.749075Z",
     "iopub.status.busy": "2024-10-19T17:02:14.748771Z",
     "iopub.status.idle": "2024-10-19T17:02:14.809856Z",
     "shell.execute_reply": "2024-10-19T17:02:14.809148Z"
    },
    "papermill": {
     "duration": 0.072091,
     "end_time": "2024-10-19T17:02:14.811781",
     "exception": false,
     "start_time": "2024-10-19T17:02:14.739690",
     "status": "completed"
    },
    "tags": []
   },
   "outputs": [],
   "source": [
    "# Sınıfları one-hot encode edelim\n",
    "y_train = tf.keras.utils.to_categorical(y_train, 10)\n",
    "y_val = tf.keras.utils.to_categorical(y_val, 10)\n",
    "y_test = tf.keras.utils.to_categorical(y_test, 10)"
   ]
  },
  {
   "cell_type": "code",
   "execution_count": 12,
   "id": "42222fcd",
   "metadata": {
    "execution": {
     "iopub.execute_input": "2024-10-19T17:02:14.829389Z",
     "iopub.status.busy": "2024-10-19T17:02:14.829054Z",
     "iopub.status.idle": "2024-10-19T17:02:14.835289Z",
     "shell.execute_reply": "2024-10-19T17:02:14.834412Z"
    },
    "papermill": {
     "duration": 0.01729,
     "end_time": "2024-10-19T17:02:14.837300",
     "exception": false,
     "start_time": "2024-10-19T17:02:14.820010",
     "status": "completed"
    },
    "tags": []
   },
   "outputs": [
    {
     "data": {
      "text/plain": [
       "array([[0., 0., 0., 0., 0., 1., 0., 0., 0., 0.],\n",
       "       [1., 0., 0., 0., 0., 0., 0., 0., 0., 0.],\n",
       "       [0., 1., 0., 0., 0., 0., 0., 0., 0., 0.],\n",
       "       [0., 0., 0., 0., 0., 0., 1., 0., 0., 0.],\n",
       "       [0., 1., 0., 0., 0., 0., 0., 0., 0., 0.]])"
      ]
     },
     "execution_count": 12,
     "metadata": {},
     "output_type": "execute_result"
    }
   ],
   "source": [
    "# Encode edilmiş değerleri görüntüleyelim.\n",
    "y_train[:5]"
   ]
  },
  {
   "cell_type": "markdown",
   "id": "ed8af911",
   "metadata": {
    "papermill": {
     "duration": 0.008198,
     "end_time": "2024-10-19T17:02:14.853793",
     "exception": false,
     "start_time": "2024-10-19T17:02:14.845595",
     "status": "completed"
    },
    "tags": []
   },
   "source": [
    "Yukarıdaki kodda, **`y_train`** veri setindeki ilk 5 etiketin **one-hot encoding** işlemi sonrası nasıl göründüğünü gösterir.  MNIST veri setindeki etiketler, **one-hot encoding** yöntemiyle dönüştürüldüğü için her satırda yalnızca **bir konumda 1** değeri, diğer tüm konumlarda **0** değeri bulunur."
   ]
  },
  {
   "cell_type": "markdown",
   "id": "d52ff489",
   "metadata": {
    "papermill": {
     "duration": 0.008006,
     "end_time": "2024-10-19T17:02:14.870198",
     "exception": false,
     "start_time": "2024-10-19T17:02:14.862192",
     "status": "completed"
    },
    "tags": []
   },
   "source": [
    "### **1. Sequential Model Nedir?**  \n",
    "Keras'ın **Sequential modeli**, katmanları sıralı bir şekilde ekleyerek basit bir **yapay sinir ağı** oluşturmayı sağlar.  \n",
    "- Her katman, bir önceki katmanın çıktısını **girdi** olarak alır.  \n",
    "- Bu model, **temel yapılı** ve **düz modeller** için idealdir.  \n",
    "\n",
    "#### **Model Tanımlama**  \n",
    "\n",
    "1. **Girdi Katmanı**  \n",
    "   - **Input Katmanı:**  \n",
    "     - Girdi boyutunu tanımlar.  \n",
    "     - Bu durumda, **28x28** boyutundaki bir resim girişi (örneğin, MNIST veri setindeki el yazısı rakamlar) **784 boyutlu** bir vektöre dönüştürülmüştür.  \n",
    "\n",
    "2. **Yoğun Katman**  \n",
    "   - **Dense Katmanı:**  \n",
    "     - **512 nörona** sahip ve **ReLU aktivasyon fonksiyonu** kullanır.  \n",
    "     - Bu katman, girdi verisini işleyerek daha derin özellikler öğrenir.  \n",
    "\n",
    "3. **Dropout Katmanı**  \n",
    "   - **Dropout Katmanı:**  \n",
    "     - **0.3 oranında dropout** uygular; yani her eğitim adımında **0.3 oranında** nöron rastgele kapatılır.  \n",
    "     - Bu, **aşırı öğrenmeyi** (overfitting) azaltmak için kullanılır.  \n"
   ]
  },
  {
   "cell_type": "code",
   "execution_count": 13,
   "id": "49f0c55e",
   "metadata": {
    "execution": {
     "iopub.execute_input": "2024-10-19T17:02:14.887872Z",
     "iopub.status.busy": "2024-10-19T17:02:14.887572Z",
     "iopub.status.idle": "2024-10-19T17:02:14.894970Z",
     "shell.execute_reply": "2024-10-19T17:02:14.894155Z"
    },
    "papermill": {
     "duration": 0.018428,
     "end_time": "2024-10-19T17:02:14.896811",
     "exception": false,
     "start_time": "2024-10-19T17:02:14.878383",
     "status": "completed"
    },
    "tags": []
   },
   "outputs": [],
   "source": [
    "# Modeli oluşturma\n",
    "model = tf.keras.models.Sequential()"
   ]
  },
  {
   "cell_type": "markdown",
   "id": "04a8d119",
   "metadata": {
    "papermill": {
     "duration": 0.008058,
     "end_time": "2024-10-19T17:02:14.913160",
     "exception": false,
     "start_time": "2024-10-19T17:02:14.905102",
     "status": "completed"
    },
    "tags": []
   },
   "source": [
    "### Neden ReLU Kullandık?\n",
    "\n",
    "ReLU aktivasyon fonksiyonu, derin öğrenme modelinde yaygın olarak tercih edilir çünkü:\n",
    "\n",
    "- **Hızlı Öğrenme:** ReLU, negatif değerleri sıfırlayarak, pozitif değerleri olduğu gibi geçirdiği için, modelin daha hızlı öğrenmesini sağlar.\n",
    "- **Aşırı Öğrenme Sorununu Azaltma:** ReLU, gradyanların sıfıra düşme olasılığını azaltır ve bu sayede daha iyi sonuçlar elde etmemizi sağlar."
   ]
  },
  {
   "cell_type": "code",
   "execution_count": 14,
   "id": "3c110676",
   "metadata": {
    "execution": {
     "iopub.execute_input": "2024-10-19T17:02:14.930744Z",
     "iopub.status.busy": "2024-10-19T17:02:14.930445Z",
     "iopub.status.idle": "2024-10-19T17:02:15.424600Z",
     "shell.execute_reply": "2024-10-19T17:02:15.423578Z"
    },
    "papermill": {
     "duration": 0.505628,
     "end_time": "2024-10-19T17:02:15.426957",
     "exception": false,
     "start_time": "2024-10-19T17:02:14.921329",
     "status": "completed"
    },
    "tags": []
   },
   "outputs": [],
   "source": [
    "# Input nesnesi olarak tanımlayın\n",
    "model.add(tf.keras.layers.Input(shape=(28 * 28,)))\n",
    "\n",
    "# Input katmanı\n",
    "model.add(tf.keras.layers.Dense(512, activation='relu'))\n",
    "model.add(tf.keras.layers.Dropout(0.3))"
   ]
  },
  {
   "cell_type": "code",
   "execution_count": 15,
   "id": "7b4432d4",
   "metadata": {
    "execution": {
     "iopub.execute_input": "2024-10-19T17:02:15.445915Z",
     "iopub.status.busy": "2024-10-19T17:02:15.445304Z",
     "iopub.status.idle": "2024-10-19T17:02:15.484851Z",
     "shell.execute_reply": "2024-10-19T17:02:15.484150Z"
    },
    "papermill": {
     "duration": 0.051052,
     "end_time": "2024-10-19T17:02:15.486754",
     "exception": false,
     "start_time": "2024-10-19T17:02:15.435702",
     "status": "completed"
    },
    "tags": []
   },
   "outputs": [],
   "source": [
    " # Gizli katmanlar\n",
    "model.add(tf.keras.layers.Dense(256, activation='relu')) #hidden layer1\n",
    "model.add(tf.keras.layers.Dropout(0.3))\n",
    "model.add(tf.keras.layers.Dense(128, activation='relu')) #hidden layer2\n",
    "model.add(tf.keras.layers.Dropout(0.3))"
   ]
  },
  {
   "cell_type": "code",
   "execution_count": 16,
   "id": "0da148ab",
   "metadata": {
    "execution": {
     "iopub.execute_input": "2024-10-19T17:02:15.504985Z",
     "iopub.status.busy": "2024-10-19T17:02:15.504299Z",
     "iopub.status.idle": "2024-10-19T17:02:15.521033Z",
     "shell.execute_reply": "2024-10-19T17:02:15.520374Z"
    },
    "papermill": {
     "duration": 0.027692,
     "end_time": "2024-10-19T17:02:15.522855",
     "exception": false,
     "start_time": "2024-10-19T17:02:15.495163",
     "status": "completed"
    },
    "tags": []
   },
   "outputs": [],
   "source": [
    "# Output layer. Multi-class sınıflandırma için softmax kullanıyoruz.\n",
    "model.add(tf.keras.layers.Dense(10, activation='softmax'))"
   ]
  },
  {
   "cell_type": "code",
   "execution_count": 17,
   "id": "9702f5f0",
   "metadata": {
    "execution": {
     "iopub.execute_input": "2024-10-19T17:02:15.540616Z",
     "iopub.status.busy": "2024-10-19T17:02:15.540295Z",
     "iopub.status.idle": "2024-10-19T17:02:15.552772Z",
     "shell.execute_reply": "2024-10-19T17:02:15.551896Z"
    },
    "papermill": {
     "duration": 0.023568,
     "end_time": "2024-10-19T17:02:15.554724",
     "exception": false,
     "start_time": "2024-10-19T17:02:15.531156",
     "status": "completed"
    },
    "tags": []
   },
   "outputs": [],
   "source": [
    "# Modeli Derleyelim (Compile The Model)\n",
    "model.compile(optimizer='adam', loss='categorical_crossentropy', metrics=['accuracy'])"
   ]
  },
  {
   "cell_type": "code",
   "execution_count": 18,
   "id": "363bb701",
   "metadata": {
    "execution": {
     "iopub.execute_input": "2024-10-19T17:02:15.572532Z",
     "iopub.status.busy": "2024-10-19T17:02:15.572236Z",
     "iopub.status.idle": "2024-10-19T17:02:15.576573Z",
     "shell.execute_reply": "2024-10-19T17:02:15.575739Z"
    },
    "papermill": {
     "duration": 0.015364,
     "end_time": "2024-10-19T17:02:15.578555",
     "exception": false,
     "start_time": "2024-10-19T17:02:15.563191",
     "status": "completed"
    },
    "tags": []
   },
   "outputs": [],
   "source": [
    "# Early stopping\n",
    "early_stopping = tf.keras.callbacks.EarlyStopping(\n",
    "    monitor='val_loss',  # İzlenecek metrik (doğrulama kaybı)\n",
    "    patience=3,          #  val_l oss iyileşmezse 3 epoch sonra durdur\n",
    "    restore_best_weights=True,  # En iyi modelin ağırlıklarını geri yükle\n",
    "    verbose=1            # Durum güncellemelerini yazdır\n",
    ")"
   ]
  },
  {
   "cell_type": "code",
   "execution_count": 19,
   "id": "b1e3d138",
   "metadata": {
    "execution": {
     "iopub.execute_input": "2024-10-19T17:02:15.596891Z",
     "iopub.status.busy": "2024-10-19T17:02:15.596232Z",
     "iopub.status.idle": "2024-10-19T17:02:15.600573Z",
     "shell.execute_reply": "2024-10-19T17:02:15.599802Z"
    },
    "papermill": {
     "duration": 0.015159,
     "end_time": "2024-10-19T17:02:15.602310",
     "exception": false,
     "start_time": "2024-10-19T17:02:15.587151",
     "status": "completed"
    },
    "tags": []
   },
   "outputs": [],
   "source": [
    "# Early stopping\n",
    "early_stopping = tf.keras.callbacks.EarlyStopping(\n",
    "    monitor='val_loss',  # İzlenecek metrik (doğrulama kaybı)\n",
    "    patience=3,          #  val_loss iyileşmezse 3 epoch sonra durdur\n",
    "    restore_best_weights=True,  # En iyi modelin ağırlıklarını geri yükle\n",
    "    verbose=1            # Durum güncellemelerini yazdır\n",
    ")  "
   ]
  },
  {
   "cell_type": "code",
   "execution_count": 20,
   "id": "8c8373cb",
   "metadata": {
    "execution": {
     "iopub.execute_input": "2024-10-19T17:02:15.620125Z",
     "iopub.status.busy": "2024-10-19T17:02:15.619499Z",
     "iopub.status.idle": "2024-10-19T17:02:30.827200Z",
     "shell.execute_reply": "2024-10-19T17:02:30.826401Z"
    },
    "papermill": {
     "duration": 15.218935,
     "end_time": "2024-10-19T17:02:30.829409",
     "exception": false,
     "start_time": "2024-10-19T17:02:15.610474",
     "status": "completed"
    },
    "tags": []
   },
   "outputs": [
    {
     "name": "stdout",
     "output_type": "stream",
     "text": [
      "Epoch 1/10\n"
     ]
    },
    {
     "name": "stderr",
     "output_type": "stream",
     "text": [
      "WARNING: All log messages before absl::InitializeLog() is called are written to STDERR\n",
      "I0000 00:00:1729357337.264986      66 service.cc:145] XLA service 0x7c887400a480 initialized for platform CUDA (this does not guarantee that XLA will be used). Devices:\n",
      "I0000 00:00:1729357337.265041      66 service.cc:153]   StreamExecutor device (0): Tesla P100-PCIE-16GB, Compute Capability 6.0\n"
     ]
    },
    {
     "name": "stdout",
     "output_type": "stream",
     "text": [
      "\u001b[1m 83/375\u001b[0m \u001b[32m━━━━\u001b[0m\u001b[37m━━━━━━━━━━━━━━━━\u001b[0m \u001b[1m0s\u001b[0m 2ms/step - accuracy: 0.5731 - loss: 1.2703"
     ]
    },
    {
     "name": "stderr",
     "output_type": "stream",
     "text": [
      "I0000 00:00:1729357341.827849      66 device_compiler.h:188] Compiled cluster using XLA!  This line is logged at most once for the lifetime of the process.\n"
     ]
    },
    {
     "name": "stdout",
     "output_type": "stream",
     "text": [
      "\u001b[1m375/375\u001b[0m \u001b[32m━━━━━━━━━━━━━━━━━━━━\u001b[0m\u001b[37m\u001b[0m \u001b[1m7s\u001b[0m 4ms/step - accuracy: 0.7780 - loss: 0.6853 - val_accuracy: 0.9582 - val_loss: 0.1371\n",
      "Epoch 2/10\n",
      "\u001b[1m375/375\u001b[0m \u001b[32m━━━━━━━━━━━━━━━━━━━━\u001b[0m\u001b[37m\u001b[0m \u001b[1m1s\u001b[0m 2ms/step - accuracy: 0.9514 - loss: 0.1680 - val_accuracy: 0.9696 - val_loss: 0.1024\n",
      "Epoch 3/10\n",
      "\u001b[1m375/375\u001b[0m \u001b[32m━━━━━━━━━━━━━━━━━━━━\u001b[0m\u001b[37m\u001b[0m \u001b[1m1s\u001b[0m 2ms/step - accuracy: 0.9661 - loss: 0.1182 - val_accuracy: 0.9717 - val_loss: 0.0909\n",
      "Epoch 4/10\n",
      "\u001b[1m375/375\u001b[0m \u001b[32m━━━━━━━━━━━━━━━━━━━━\u001b[0m\u001b[37m\u001b[0m \u001b[1m1s\u001b[0m 2ms/step - accuracy: 0.9718 - loss: 0.0968 - val_accuracy: 0.9758 - val_loss: 0.0831\n",
      "Epoch 5/10\n",
      "\u001b[1m375/375\u001b[0m \u001b[32m━━━━━━━━━━━━━━━━━━━━\u001b[0m\u001b[37m\u001b[0m \u001b[1m1s\u001b[0m 2ms/step - accuracy: 0.9754 - loss: 0.0798 - val_accuracy: 0.9744 - val_loss: 0.0866\n",
      "Epoch 6/10\n",
      "\u001b[1m375/375\u001b[0m \u001b[32m━━━━━━━━━━━━━━━━━━━━\u001b[0m\u001b[37m\u001b[0m \u001b[1m1s\u001b[0m 2ms/step - accuracy: 0.9784 - loss: 0.0693 - val_accuracy: 0.9788 - val_loss: 0.0718\n",
      "Epoch 7/10\n",
      "\u001b[1m375/375\u001b[0m \u001b[32m━━━━━━━━━━━━━━━━━━━━\u001b[0m\u001b[37m\u001b[0m \u001b[1m1s\u001b[0m 2ms/step - accuracy: 0.9819 - loss: 0.0578 - val_accuracy: 0.9792 - val_loss: 0.0746\n",
      "Epoch 8/10\n",
      "\u001b[1m375/375\u001b[0m \u001b[32m━━━━━━━━━━━━━━━━━━━━\u001b[0m\u001b[37m\u001b[0m \u001b[1m1s\u001b[0m 2ms/step - accuracy: 0.9834 - loss: 0.0558 - val_accuracy: 0.9795 - val_loss: 0.0754\n",
      "Epoch 9/10\n",
      "\u001b[1m375/375\u001b[0m \u001b[32m━━━━━━━━━━━━━━━━━━━━\u001b[0m\u001b[37m\u001b[0m \u001b[1m1s\u001b[0m 2ms/step - accuracy: 0.9861 - loss: 0.0477 - val_accuracy: 0.9814 - val_loss: 0.0692\n",
      "Epoch 10/10\n",
      "\u001b[1m375/375\u001b[0m \u001b[32m━━━━━━━━━━━━━━━━━━━━\u001b[0m\u001b[37m\u001b[0m \u001b[1m1s\u001b[0m 2ms/step - accuracy: 0.9859 - loss: 0.0452 - val_accuracy: 0.9795 - val_loss: 0.0800\n"
     ]
    }
   ],
   "source": [
    "# Modeli eğitelim\n",
    "results = model.fit(X_train, y_train, epochs=10, batch_size=128, validation_data=(X_val, y_val))"
   ]
  },
  {
   "cell_type": "code",
   "execution_count": 21,
   "id": "90ca545f",
   "metadata": {
    "execution": {
     "iopub.execute_input": "2024-10-19T17:02:30.873052Z",
     "iopub.status.busy": "2024-10-19T17:02:30.872715Z",
     "iopub.status.idle": "2024-10-19T17:02:31.378266Z",
     "shell.execute_reply": "2024-10-19T17:02:31.377350Z"
    },
    "papermill": {
     "duration": 0.530317,
     "end_time": "2024-10-19T17:02:31.380775",
     "exception": false,
     "start_time": "2024-10-19T17:02:30.850458",
     "status": "completed"
    },
    "tags": []
   },
   "outputs": [
    {
     "data": {
      "image/png": "[encoded data removed]",
      "text/plain": [
       "<Figure size 1200x500 with 2 Axes>"
      ]
     },
     "metadata": {},
     "output_type": "display_data"
    }
   ],
   "source": [
    "# Eğitim sonuçlarını görselleştirelim\n",
    "plt.figure(figsize=(12, 5))\n",
    "\n",
    "# Loss grafiği\n",
    "plt.subplot(1, 2, 1)\n",
    "plt.plot(results.history['loss'], label='Train Loss')\n",
    "plt.plot(results.history['val_loss'], label='Validation Loss')\n",
    "plt.title('Loss Grafiği')\n",
    "plt.xlabel('Epochs')\n",
    "plt.ylabel('Loss')\n",
    "plt.legend()\n",
    "\n",
    "# Accuracy grafiği\n",
    "plt.subplot(1, 2, 2)\n",
    "plt.plot(results.history['accuracy'], label='Train Accuracy')\n",
    "plt.plot(results.history['val_accuracy'], label='Validation Accuracy')\n",
    "plt.title('Accuracy Grafiği')\n",
    "plt.xlabel('Epochs')\n",
    "plt.ylabel('Accuracy')\n",
    "plt.legend()\n",
    "\n",
    "plt.tight_layout()\n",
    "plt.show()"
   ]
  },
  {
   "cell_type": "code",
   "execution_count": 22,
   "id": "0a249da9",
   "metadata": {
    "execution": {
     "iopub.execute_input": "2024-10-19T17:02:31.425900Z",
     "iopub.status.busy": "2024-10-19T17:02:31.424935Z",
     "iopub.status.idle": "2024-10-19T17:02:32.489197Z",
     "shell.execute_reply": "2024-10-19T17:02:32.488409Z"
    },
    "papermill": {
     "duration": 1.088395,
     "end_time": "2024-10-19T17:02:32.491299",
     "exception": false,
     "start_time": "2024-10-19T17:02:31.402904",
     "status": "completed"
    },
    "tags": []
   },
   "outputs": [
    {
     "name": "stdout",
     "output_type": "stream",
     "text": [
      "\u001b[1m313/313\u001b[0m \u001b[32m━━━━━━━━━━━━━━━━━━━━\u001b[0m\u001b[37m\u001b[0m \u001b[1m1s\u001b[0m 2ms/step\n"
     ]
    }
   ],
   "source": [
    "# Test seti ile tahmin yapalım\n",
    "y_pred = model.predict(X_test)\n",
    "y_pred_classes = np.argmax(y_pred, axis=1)"
   ]
  },
  {
   "cell_type": "code",
   "execution_count": 23,
   "id": "82faafc3",
   "metadata": {
    "execution": {
     "iopub.execute_input": "2024-10-19T17:02:32.537157Z",
     "iopub.status.busy": "2024-10-19T17:02:32.536858Z",
     "iopub.status.idle": "2024-10-19T17:02:33.313480Z",
     "shell.execute_reply": "2024-10-19T17:02:33.312362Z"
    },
    "papermill": {
     "duration": 0.801983,
     "end_time": "2024-10-19T17:02:33.315673",
     "exception": false,
     "start_time": "2024-10-19T17:02:32.513690",
     "status": "completed"
    },
    "tags": []
   },
   "outputs": [
    {
     "name": "stdout",
     "output_type": "stream",
     "text": [
      "Test Loss: 0.07944244146347046\n",
      "Test Accuracy: 0.9793999791145325\n"
     ]
    }
   ],
   "source": [
    "# Test seti üzerinde modeli değerlendirelim\n",
    "test_loss, test_accuracy = model.evaluate(X_test, y_test, verbose=0)\n",
    "print('Test Loss:', test_loss)\n",
    "print('Test Accuracy:', test_accuracy)"
   ]
  }
 ],
 "metadata": {
  "kaggle": {
   "accelerator": "gpu",
   "dataSources": [
    {
     "datasetId": 102285,
     "sourceId": 242592,
     "sourceType": "datasetVersion"
    }
   ],
   "dockerImageVersionId": 30787,
   "isGpuEnabled": true,
   "isInternetEnabled": true,
   "language": "python",
   "sourceType": "notebook"
  },
  "kernelspec": {
   "display_name": "Python 3",
   "language": "python",
   "name": "python3"
  },
  "language_info": {
   "codemirror_mode": {
    "name": "ipython",
    "version": 3
   },
   "file_extension": ".py",
   "mimetype": "text/x-python",
   "name": "python",
   "nbconvert_exporter": "python",
   "pygments_lexer": "ipython3",
   "version": "3.10.14"
  },
  "papermill": {
   "default_parameters": {},
   "duration": 39.388858,
   "end_time": "2024-10-19T17:02:35.162217",
   "environment_variables": {},
   "exception": null,
   "input_path": "__notebook__.ipynb",
   "output_path": "__notebook__.ipynb",
   "parameters": {},
   "start_time": "2024-10-19T17:01:55.773359",
   "version": "2.6.0"
  }
 },
 "nbformat": 4,
 "nbformat_minor": 5
}
